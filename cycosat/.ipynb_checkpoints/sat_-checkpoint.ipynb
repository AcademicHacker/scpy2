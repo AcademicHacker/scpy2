{
 "metadata": {
  "name": ""
 },
 "nbformat": 3,
 "nbformat_minor": 0,
 "worksheets": [
  {
   "cells": [
    {
     "cell_type": "code",
     "collapsed": false,
     "input": [
      "from cycosat import CoSAT"
     ],
     "language": "python",
     "metadata": {},
     "outputs": [],
     "prompt_number": 1
    },
    {
     "cell_type": "code",
     "collapsed": false,
     "input": [
      "import numpy as np"
     ],
     "language": "python",
     "metadata": {},
     "outputs": [],
     "prompt_number": 2
    },
    {
     "cell_type": "code",
     "collapsed": false,
     "input": [
      "W = 6\n",
      "H = 5\n",
      "\n",
      "board = np.arange(1, W*H+1).reshape(H, W)\n",
      "board"
     ],
     "language": "python",
     "metadata": {},
     "outputs": [
      {
       "metadata": {},
       "output_type": "pyout",
       "prompt_number": 3,
       "text": [
        "array([[ 1,  2,  3,  4,  5,  6],\n",
        "       [ 7,  8,  9, 10, 11, 12],\n",
        "       [13, 14, 15, 16, 17, 18],\n",
        "       [19, 20, 21, 22, 23, 24],\n",
        "       [25, 26, 27, 28, 29, 30]])"
       ]
      }
     ],
     "prompt_number": 3
    },
    {
     "cell_type": "code",
     "collapsed": false,
     "input": [
      "from collections import defaultdict\n",
      "import itertools\n",
      "\n",
      "patterns = {}\n",
      "for n in [3, 5, 8]:\n",
      "    pattern = [[[]]]\n",
      "    for i in range(1, n+1):\n",
      "        pattern.append(list(itertools.combinations(range(n), i)))\n",
      "    patterns[n] = pattern\n",
      "\n",
      "cell_neighbors = defaultdict(list)\n",
      "\n",
      "dx = dy = [-1, 0, 1]\n",
      "directs = list(np.broadcast(*np.ix_(dx, dy)))\n",
      "directs.remove((0, 0))\n",
      "\n",
      "W = 6\n",
      "H = 5\n",
      "\n",
      "board = np.arange(1, W*H+1).reshape(H, W)\n",
      "\n",
      "for (i, j), v in np.ndenumerate(board):\n",
      "    for di, dj in directs:\n",
      "        i2 = i + di\n",
      "        j2 = j + dj\n",
      "        if 0 <= i2 < H and 0 <= j2 < W:\n",
      "            cell_neighbors[v].append(board[i2, j2])\n",
      "    #print i, j, v"
     ],
     "language": "python",
     "metadata": {},
     "outputs": [],
     "prompt_number": 88
    },
    {
     "cell_type": "code",
     "collapsed": false,
     "input": [
      "def get_clauses(cell, mine_count):\n",
      "    neighbors = cell_neighbors[cell]\n",
      "    init_condition = [x for x in neighbors]\n",
      "    false_patterns = []\n",
      "    conditions = [[-cell]]\n",
      "    for count in range(len(neighbors)+1):\n",
      "        if count != mine_count:\n",
      "            for pattern in patterns[len(neighbors)][count]:\n",
      "                condition = init_condition[:]\n",
      "                for idx in pattern:\n",
      "                    condition[idx] *= -1\n",
      "                conditions.append(condition)\n",
      "    return conditions"
     ],
     "language": "python",
     "metadata": {},
     "outputs": [],
     "prompt_number": 113
    },
    {
     "cell_type": "code",
     "collapsed": false,
     "input": [
      "sat = CoSAT()\n",
      "sat.add_clauses( get_clauses(1, 1) )\n",
      "sat.add_clauses( get_clauses(2, 3) )\n",
      "sat.build()\n",
      "[-x for x in sat.get_failed_assumes()]"
     ],
     "language": "python",
     "metadata": {},
     "outputs": [
      {
       "output_type": "stream",
       "stream": "stdout",
       "text": [
        "Wall time: 0 ns\n"
       ]
      }
     ],
     "prompt_number": 118
    },
    {
     "cell_type": "code",
     "collapsed": false,
     "input": [
      "class MineBoard(object):\n",
      "    \n",
      "    def __init__(self, width, height, mine_count):\n",
      "        self.width = width\n",
      "        self.height = height\n",
      "        self.board = np.zeros((self.height, self.width), dtype=np.uint8)\n",
      "        self.flat_board = self.board.ravel()\n",
      "        index = np.arange(self.width*self.height)\n",
      "        mine_index = np.random.choice(index, mine_count, replace=False)\n",
      "        self.flat_board[mine_index] = 1\n",
      "        \n",
      "        self.counts = np.zeros((self.height, self.width), dtype=np.uint8)\n",
      "        self.flat_counts = self.counts.ravel()\n",
      "        for i in range(len(self.flat_counts)):\n",
      "            self.flat_counts[i] = sum(self.flat_board[j-1] for j in cell_neighbors[i+1])\n",
      "            \n",
      "        self.visited = np.zeros((self.height, self.width), dtype=np.uint8)\n",
      "        self.flat_visited = self.visited.ravel()\n",
      "        \n",
      "    def visit(self, index):\n",
      "        print \"visit:\", index\n",
      "        if self.flat_board[index]:\n",
      "            return False\n",
      "        else:\n",
      "            self.flat_visited[index] = 1\n",
      "            return True\n",
      "        \n",
      "    def get_visited_info(self):\n",
      "        pos = np.where(self.flat_visited)[0]\n",
      "        counts = self.flat_counts[pos]\n",
      "        return pos, counts\n",
      "    \n",
      "    def visiable_counts(self):\n",
      "        return np.ma.MaskedArray(self.counts, mask=self.visited!=1)"
     ],
     "language": "python",
     "metadata": {},
     "outputs": [],
     "prompt_number": 202
    },
    {
     "cell_type": "code",
     "collapsed": false,
     "input": [
      "def get_sat(pos, count):\n",
      "    sat = CoSAT()\n",
      "    for p, c in zip(pos, count):\n",
      "        sat.add_clauses( get_clauses(p+1, c) )\n",
      "    sat.build()\n",
      "    pos_set = set(pos)\n",
      "    assumes = [-x for x in sat.get_failed_assumes()]\n",
      "    no_mine = [abs(x)-1 for x in assumes if x < 0]\n",
      "    return [x for x in no_mine if x not in pos_set]"
     ],
     "language": "python",
     "metadata": {},
     "outputs": [],
     "prompt_number": 203
    },
    {
     "cell_type": "code",
     "collapsed": false,
     "input": [
      "N = 5\n",
      "np.random.seed(0)\n",
      "mb = MineBoard(W, H, N)\n",
      "for i in range(100):\n",
      "    pos, count = mb.get_visited_info()\n",
      "    if len(pos) == W * H - N:\n",
      "        break\n",
      "    no_mine = get_sat(pos, count)\n",
      "    if no_mine:\n",
      "        print mb.visiable_counts() + 10\n",
      "        print no_mine        \n",
      "        for idx in no_mine:\n",
      "            if not mb.visit(idx):\n",
      "                print \"failed\"\n",
      "    else:\n",
      "        pos_set = set(pos)\n",
      "        while True:\n",
      "            idx = np.random.randint(0, W*H)\n",
      "            if idx not in pos_set:\n",
      "                print \"random\"\n",
      "                if not mb.visit(idx):\n",
      "                    print \"random failed\"\n",
      "                break"
     ],
     "language": "python",
     "metadata": {},
     "outputs": [
      {
       "output_type": "stream",
       "stream": "stdout",
       "text": [
        "random\n",
        "visit: 15\n",
        "random\n",
        "visit: 0\n",
        "[[10 -- -- -- -- --]\n",
        " [-- -- -- -- -- --]\n",
        " [-- -- -- 11 -- --]\n",
        " [-- -- -- -- -- --]\n",
        " [-- -- -- -- -- --]]\n",
        "[1, 6, 7]\n",
        "visit: 1\n",
        "visit: 6\n",
        "visit: 7\n",
        "[[10 11 -- -- -- --]\n",
        " [11 12 -- -- -- --]\n",
        " [-- -- -- 11 -- --]\n",
        " [-- -- -- -- -- --]\n",
        " [-- -- -- -- -- --]]\n",
        "[14]\n",
        "visit: 14\n",
        "random\n",
        "visit: 18\n",
        "[[10 11 -- -- -- --]\n",
        " [11 12 -- -- -- --]\n",
        " [-- -- 11 11 -- --]\n",
        " [11 -- -- -- -- --]\n",
        " [-- -- -- -- -- --]]\n",
        "[19, 24, 25]\n",
        "visit: 19\n",
        "visit: 24\n",
        "visit: 25\n",
        "random\n",
        "visit: 3\n",
        "random\n",
        "visit: 17\n",
        "random\n",
        "visit: 29\n",
        "random"
       ]
      },
      {
       "output_type": "stream",
       "stream": "stdout",
       "text": [
        "\n",
        "visit: 9\n",
        "[[10 11 -- 12 -- --]\n",
        " [11 12 -- 12 -- --]\n",
        " [-- -- 11 11 -- 11]\n",
        " [11 12 -- -- -- --]\n",
        " [10 11 -- -- -- 11]]\n",
        "[16]\n",
        "visit: 16\n",
        "[[10 11 -- 12 -- --]\n",
        " [11 12 -- 12 -- --]\n",
        " [-- -- 11 11 11 11]\n",
        " [11 12 -- -- -- --]\n",
        " [10 11 -- -- -- 11]]\n",
        "[21]\n",
        "visit: 21\n",
        "random\n",
        "visit: 10\n",
        "random failed\n",
        "random"
       ]
      },
      {
       "output_type": "stream",
       "stream": "stdout",
       "text": [
        "\n",
        "visit: 20\n",
        "[[10 11 -- 12 -- --]\n",
        " [11 12 -- 12 -- --]\n",
        " [-- -- 11 11 11 11]\n",
        " [11 12 12 12 -- --]\n",
        " [10 11 -- -- -- 11]]\n",
        "[11]\n",
        "visit: 11\n",
        "[[10 11 -- 12 -- --]\n",
        " [11 12 -- 12 -- 11]\n",
        " [-- -- 11 11 11 11]\n",
        " [11 12 12 12 -- --]\n",
        " [10 11 -- -- -- 11]]\n",
        "[5]\n",
        "visit: 5\n",
        "random"
       ]
      },
      {
       "output_type": "stream",
       "stream": "stdout",
       "text": [
        "\n",
        "visit: 23\n",
        "[[10 11 -- 12 -- 11]\n",
        " [11 12 -- 12 -- 11]\n",
        " [-- -- 11 11 11 11]\n",
        " [11 12 12 12 -- 11]\n",
        " [10 11 -- -- -- 11]]\n",
        "[8, 12, 27]\n",
        "visit: 8\n",
        "visit: 12\n",
        "visit: 27\n",
        "random\n",
        "visit: 28\n",
        "random failed\n",
        "random"
       ]
      },
      {
       "output_type": "stream",
       "stream": "stdout",
       "text": [
        "\n",
        "visit: 2\n",
        "random failed\n",
        "random\n",
        "visit: 4\n",
        "[[10 11 -- 12 11 11]\n",
        " [11 12 12 12 -- 11]\n",
        " [11 -- 11 11 11 11]\n",
        " [11 12 12 12 -- 11]\n",
        " [10 11 -- 12 -- 11]]\n",
        "[22]\n",
        "visit: 22\n"
       ]
      }
     ],
     "prompt_number": 217
    },
    {
     "cell_type": "code",
     "collapsed": false,
     "input": [
      "mb.board"
     ],
     "language": "python",
     "metadata": {},
     "outputs": [
      {
       "metadata": {},
       "output_type": "pyout",
       "prompt_number": 186,
       "text": [
        "array([[0, 0, 1, 0, 0, 0],\n",
        "       [0, 0, 0, 0, 1, 0],\n",
        "       [0, 1, 0, 0, 0, 0],\n",
        "       [0, 0, 0, 0, 0, 0],\n",
        "       [0, 0, 1, 0, 1, 0]], dtype=uint8)"
       ]
      }
     ],
     "prompt_number": 186
    },
    {
     "cell_type": "code",
     "collapsed": false,
     "input": [
      "mb.flat_counts[15]"
     ],
     "language": "python",
     "metadata": {},
     "outputs": [
      {
       "metadata": {},
       "output_type": "pyout",
       "prompt_number": 185,
       "text": [
        "1"
       ]
      }
     ],
     "prompt_number": 185
    },
    {
     "cell_type": "code",
     "collapsed": false,
     "input": [
      "mb.board"
     ],
     "language": "python",
     "metadata": {},
     "outputs": [
      {
       "metadata": {},
       "output_type": "pyout",
       "prompt_number": 147,
       "text": [
        "array([[0, 0, 1, 0, 0, 0],\n",
        "       [0, 0, 0, 0, 1, 1],\n",
        "       [0, 1, 0, 0, 0, 1],\n",
        "       [0, 0, 0, 0, 1, 0],\n",
        "       [1, 0, 1, 1, 1, 0]], dtype=uint8)"
       ]
      }
     ],
     "prompt_number": 147
    },
    {
     "cell_type": "code",
     "collapsed": false,
     "input": [
      "mb.visited"
     ],
     "language": "python",
     "metadata": {},
     "outputs": [
      {
       "metadata": {},
       "output_type": "pyout",
       "prompt_number": 181,
       "text": [
        "array([[1, 1, 1, 1, 1, 1],\n",
        "       [1, 1, 1, 1, 1, 1],\n",
        "       [0, 0, 1, 1, 1, 1],\n",
        "       [1, 1, 1, 1, 1, 0],\n",
        "       [1, 0, 0, 1, 1, 1]], dtype=uint8)"
       ]
      }
     ],
     "prompt_number": 181
    },
    {
     "cell_type": "code",
     "collapsed": false,
     "input": [
      "np.arange(H*W).reshape(H, W)"
     ],
     "language": "python",
     "metadata": {},
     "outputs": [
      {
       "metadata": {},
       "output_type": "pyout",
       "prompt_number": 188,
       "text": [
        "array([[ 0,  1,  2,  3,  4,  5],\n",
        "       [ 6,  7,  8,  9, 10, 11],\n",
        "       [12, 13, 14, 15, 16, 17],\n",
        "       [18, 19, 20, 21, 22, 23],\n",
        "       [24, 25, 26, 27, 28, 29]])"
       ]
      }
     ],
     "prompt_number": 188
    },
    {
     "cell_type": "code",
     "collapsed": false,
     "input": [
      "mb.counts"
     ],
     "language": "python",
     "metadata": {},
     "outputs": [
      {
       "metadata": {},
       "output_type": "pyout",
       "prompt_number": 190,
       "text": [
        "array([[0, 1, 0, 2, 1, 1],\n",
        "       [1, 2, 2, 2, 0, 1],\n",
        "       [1, 0, 1, 1, 1, 1],\n",
        "       [1, 2, 2, 2, 1, 1],\n",
        "       [0, 1, 0, 2, 0, 1]], dtype=uint8)"
       ]
      }
     ],
     "prompt_number": 190
    },
    {
     "cell_type": "code",
     "collapsed": false,
     "input": [
      "print mb.visiable_counts()"
     ],
     "language": "python",
     "metadata": {},
     "outputs": [
      {
       "output_type": "stream",
       "stream": "stdout",
       "text": [
        "[[0 1 -- 2 1 1]\n",
        " [1 2 2 2 -- 1]\n",
        " [1 -- 1 1 1 1]\n",
        " [1 2 2 2 1 1]\n",
        " [0 1 -- 2 -- 1]]\n"
       ]
      }
     ],
     "prompt_number": 206
    },
    {
     "cell_type": "code",
     "collapsed": false,
     "input": [
      "np.array2string(mb.visiable_counts() + 10)"
     ],
     "language": "python",
     "metadata": {},
     "outputs": [
      {
       "metadata": {},
       "output_type": "pyout",
       "prompt_number": 216,
       "text": [
        "'[[10 11 -- 12 11 11]\\n [11 12 12 12 -- 11]\\n [11 -- 11 11 11 11]\\n [11 12 12 12 11 11]\\n [10 11 -- 12 -- 11]]'"
       ]
      }
     ],
     "prompt_number": 216
    },
    {
     "cell_type": "code",
     "collapsed": false,
     "input": [
      "np.ma?"
     ],
     "language": "python",
     "metadata": {},
     "outputs": [],
     "prompt_number": 215
    },
    {
     "cell_type": "code",
     "collapsed": false,
     "input": [],
     "language": "python",
     "metadata": {},
     "outputs": []
    }
   ],
   "metadata": {}
  }
 ]
}