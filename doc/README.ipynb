{
 "metadata": {
  "name": "",
  "signature": "sha256:c83ce35eb9bd16e1055a04c103647df8343456bd2b19416216577dfc4d464104"
 },
 "nbformat": 3,
 "nbformat_minor": 0,
 "worksheets": [
  {
   "cells": [
    {
     "cell_type": "heading",
     "level": 1,
     "metadata": {},
     "source": [
      "Scpy2 - Python\u79d1\u5b66\u8ba1\u7b97\u7b2c\u4e8c\u7248\u5b9e\u4f8b\u4ee3\u7801\u96c6"
     ]
    },
    {
     "cell_type": "markdown",
     "metadata": {},
     "source": [
      "`scpy2`\u4e3aPython\u79d1\u5b66\u8ba1\u7b97\u7b2c\u4e8c\u7248\u7684\u5b9e\u4f8b\u4ee3\u7801\u96c6\uff0c\u5176\u4e2d\u7684\u5305\u542b\u8bb8\u591a\u6f14\u793a\u4ee3\u7801\u4ee5\u53ca\u4e00\u4e9b\u5b9e\u7528\u7684\u6a21\u5757\u3002"
     ]
    },
    {
     "cell_type": "heading",
     "level": 2,
     "metadata": {},
     "source": [
      "Cython"
     ]
    },
    {
     "cell_type": "heading",
     "level": 3,
     "metadata": {},
     "source": [
      "\u591a\u5173\u952e\u5b57\u641c\u7d22"
     ]
    },
    {
     "cell_type": "markdown",
     "metadata": {},
     "source": [
      "`scpy2.cython.multisearch.MultiSearch`\u6f14\u793a\u5982\u4f55\u5bf9C\u8bed\u8a00\u7684\u5e93\u8fdb\u884c\u5305\u88c5\u3002\u8fd9\u91cc\u4f7f\u7528\u7684\u5e93\u4e3a[multifast](http://sourceforge.net/projects/multifast/)\u3002\u5b83\u80fd\u5bf9\u6587\u672c\u4f7f\u7528\u591a\u4e2a\u5173\u952e\u8bcd\u8fdb\u884c\u641c\u7d22\u3002"
     ]
    },
    {
     "cell_type": "code",
     "collapsed": false,
     "input": [
      "from scpy2.cython import MultiSearch\n",
      "\n",
      "ms = MultiSearch([\"abc\", \"xyz\"])\n",
      "print ms.isin(\"123abcdef\")\n",
      "print ms.isin(\"123uvwxyz\")\n",
      "print ms.isin(\"123456789\")\n",
      "\n",
      "for pos, pattern in ms.iter_search(\"123abcdefxyz123\"):\n",
      "    print pos, pattern"
     ],
     "language": "python",
     "metadata": {},
     "outputs": [
      {
       "output_type": "stream",
       "stream": "stdout",
       "text": [
        "True\n",
        "True\n",
        "False\n",
        "3 abc\n",
        "9 xyz\n"
       ]
      }
     ],
     "prompt_number": 1
    }
   ],
   "metadata": {}
  }
 ]
}