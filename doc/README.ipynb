{
 "metadata": {
  "name": "",
  "signature": "sha256:b0307d0868837bc5001a81601ed67fe8dc255efa54f50381517ac5def4dcec6f"
 },
 "nbformat": 3,
 "nbformat_minor": 0,
 "worksheets": [
  {
   "cells": [
    {
     "cell_type": "heading",
     "level": 1,
     "metadata": {},
     "source": [
      "Scpy2 - Python\u79d1\u5b66\u8ba1\u7b97\u7b2c\u4e8c\u7248\u5b9e\u4f8b\u4ee3\u7801\u96c6"
     ]
    },
    {
     "cell_type": "markdown",
     "metadata": {},
     "source": [
      "`scpy2`\u4e3aPython\u79d1\u5b66\u8ba1\u7b97\u7b2c\u4e8c\u7248\u7684\u5b9e\u4f8b\u4ee3\u7801\u96c6\uff0c\u5176\u4e2d\u7684\u5305\u542b\u8bb8\u591a\u6f14\u793a\u4ee3\u7801\u4ee5\u53ca\u4e00\u4e9b\u5b9e\u7528\u7684\u6a21\u5757\u3002"
     ]
    },
    {
     "cell_type": "heading",
     "level": 2,
     "metadata": {},
     "source": [
      "Scipy"
     ]
    },
    {
     "cell_type": "heading",
     "level": 3,
     "metadata": {},
     "source": [
      "\u89e3\u534e\u5bb9\u9053"
     ]
    },
    {
     "cell_type": "markdown",
     "metadata": {},
     "source": [
      "\u6f14\u793a\u5982\u4f55\u4f7f\u7528`scipy.sparse.csgraph`\u89e3\u534e\u5bb9\u9053\u8c1c\u9898\u30024\u79cd\u65b9\u5757\u5206\u522b\u4f7f\u7528ABCD\u56db\u4e2a\u7b26\u53f7\u8868\u793a\uff0c\u7a7a\u683c\u8868\u793a\u65e0\u65b9\u5757\uff0c\u4f8b\u5982\u6807\u51c6\u5f00\u5c40\u4e3a\uff1a\n",
      "\n",
      "    BAAB\n",
      "    BAAB\n",
      "    BCCB\n",
      "    BDDB\n",
      "    D  D\n",
      "    \n",
      "\u4f7f\u7528\u5b57\u7b26\u4e32`BAABBAABBCCBBDDBD  D`\u8868\u793a\u3002\n",
      "\n",
      "\u8fd9\u79cd\u5e03\u5c40\u4e00\u5171\u67091\u4e2aA\u30014\u4e2aB\u30011\u4e2aC\u548c4\u4e2aD\u65b9\u5757\uff0c\u9996\u5148\u8fd0\u884c\u5982\u4e0b\u7a0b\u5e8f\u4ea7\u751f\u8fd9\u4e9b\u65b9\u5757\u7684\u6240\u6709\u5e03\u5c40\uff1a"
     ]
    },
    {
     "cell_type": "code",
     "collapsed": false,
     "input": [
      "!python -m scpy2.scipy.hrd ABBBBCDDDD"
     ],
     "language": "python",
     "metadata": {},
     "outputs": []
    },
    {
     "cell_type": "markdown",
     "metadata": {},
     "source": [
      "\u7136\u540e\u8fd0\u884c\u5982\u4e0b\u547d\u4ee4\u5bf9\u6a2a\u5200\u7acb\u9a6c\u5e03\u5c40`BAABBAABBCCBBDDBD D`\u6c42\u89e3\uff0c\u8be5\u7a0b\u5e8f\u4f7f\u7528matplotlib\u5236\u4f5c\u754c\u9762\u3002\u6309\u7bad\u5934\u6f14\u793a\u89e3\u9898\u6b65\u9aa4\uff0c\u6309\u7a7a\u683c\u952e\u64ad\u653e/\u6682\u505c\u3002\n",
      "\n",
      "![\u534e\u5bb9\u9053\u6c42\u89e3\u5668\u7684\u754c\u9762](/files/images/hrd.png \"\")"
     ]
    },
    {
     "cell_type": "code",
     "collapsed": false,
     "input": [
      "!python -m scpy2.scipy.hrd_solver \"BAABBAABBCCBBDDBD  D\""
     ],
     "language": "python",
     "metadata": {},
     "outputs": [],
     "prompt_number": 5
    },
    {
     "cell_type": "heading",
     "level": 2,
     "metadata": {},
     "source": [
      "Cython"
     ]
    },
    {
     "cell_type": "heading",
     "level": 3,
     "metadata": {},
     "source": [
      "\u591a\u5173\u952e\u5b57\u641c\u7d22"
     ]
    },
    {
     "cell_type": "markdown",
     "metadata": {},
     "source": [
      "`scpy2.cython.multisearch.MultiSearch`\u6f14\u793a\u5982\u4f55\u5bf9C\u8bed\u8a00\u7684\u5e93\u8fdb\u884c\u5305\u88c5\u3002\u8fd9\u91cc\u4f7f\u7528\u7684\u5e93\u4e3a[multifast](http://sourceforge.net/projects/multifast/)\u3002\u5b83\u80fd\u5bf9\u6587\u672c\u4f7f\u7528\u591a\u4e2a\u5173\u952e\u8bcd\u8fdb\u884c\u641c\u7d22\u3002"
     ]
    },
    {
     "cell_type": "code",
     "collapsed": false,
     "input": [
      "from scpy2.cython import MultiSearch\n",
      "\n",
      "ms = MultiSearch([\"abc\", \"xyz\"])\n",
      "print ms.isin(\"123abcdef\")\n",
      "print ms.isin(\"123uvwxyz\")\n",
      "print ms.isin(\"123456789\")\n",
      "\n",
      "for pos, pattern in ms.iter_search(\"123abcdefxyz123\"):\n",
      "    print pos, pattern"
     ],
     "language": "python",
     "metadata": {},
     "outputs": [
      {
       "output_type": "stream",
       "stream": "stdout",
       "text": [
        "True\n",
        "True\n",
        "False\n",
        "3 abc\n",
        "9 xyz\n"
       ]
      }
     ],
     "prompt_number": 1
    },
    {
     "cell_type": "heading",
     "level": 2,
     "metadata": {},
     "source": [
      "\u5199\u4f5c\u5de5\u5177"
     ]
    },
    {
     "cell_type": "heading",
     "level": 3,
     "metadata": {},
     "source": [
      "\u751f\u6210\u7ed3\u6784\u56fe"
     ]
    },
    {
     "cell_type": "markdown",
     "metadata": {},
     "source": [
      "`GraphvizDataFrame, GraphvizMatplotlib, GraphvizMPLTransform`\u4e09\u4e2a\u7c7b\u7528\u4e8e\u751f\u6210\u5bf9\u8c61\u7ed3\u6784\u56fe\uff1a"
     ]
    },
    {
     "cell_type": "code",
     "collapsed": false,
     "input": [
      "%matplotlib inline\n",
      "import pylab as pl\n",
      "fig, ax = pl.subplots()\n",
      "ax.plot([1, 2, 3])\n",
      "\n",
      "from scpy2 import GraphvizMatplotlib\n",
      "dot = GraphvizMatplotlib.graphviz(fig)\n",
      "%dot dot"
     ],
     "language": "python",
     "metadata": {},
     "outputs": [
      {
       "metadata": {},
       "output_type": "display_data",
       "svg": [
        "<?xml version=\"1.0\" encoding=\"UTF-8\" standalone=\"no\"?>\r\n",
        "<!DOCTYPE svg PUBLIC \"-//W3C//DTD SVG 1.1//EN\"\r\n",
        " \"http://www.w3.org/Graphics/SVG/1.1/DTD/svg11.dtd\">\r\n",
        "<!-- Generated by graphviz version 2.36.0 (20140111.2315)\r\n",
        " -->\r\n",
        "<!-- Title: structs Pages: 1 -->\r\n",
        "<svg width=\"812pt\" height=\"471pt\"\r\n",
        " viewBox=\"0.00 0.00 812.00 471.00\" xmlns=\"http://www.w3.org/2000/svg\" xmlns:xlink=\"http://www.w3.org/1999/xlink\">\r\n",
        "<g id=\"graph0\" class=\"graph\" transform=\"scale(1 1) rotate(0) translate(4 467)\">\r\n",
        "<title>structs</title>\r\n",
        "<polygon fill=\"white\" stroke=\"none\" points=\"-4,4 -4,-467 808,-467 808,4 -4,4\"/>\r\n",
        "<!-- obj_157810416 -->\r\n",
        "<g id=\"node1\" class=\"node\"><title>obj_157810416</title>\r\n",
        "<polygon fill=\"white\" stroke=\"black\" points=\"0,-285 0,-321 54,-321 54,-285 0,-285\"/>\r\n",
        "<text text-anchor=\"middle\" x=\"27\" y=\"-299.3\" font-family=\"Times New Roman,serif\" font-size=\"14.00\">Figure</text>\r\n",
        "</g>\r\n",
        "<!-- obj_157835472 -->\r\n",
        "<g id=\"node2\" class=\"node\"><title>obj_157835472</title>\r\n",
        "<polygon fill=\"white\" stroke=\"black\" points=\"114.5,-307 114.5,-343 185.5,-343 185.5,-307 114.5,-307\"/>\r\n",
        "<text text-anchor=\"middle\" x=\"150\" y=\"-321.3\" font-family=\"Times New Roman,serif\" font-size=\"14.00\">Rectangle</text>\r\n",
        "</g>\r\n",
        "<!-- obj_157810416&#45;&gt;obj_157835472 -->\r\n",
        "<g id=\"edge1\" class=\"edge\"><title>obj_157810416&#45;&gt;obj_157835472</title>\r\n",
        "<path fill=\"none\" stroke=\"black\" stroke-width=\"0.5\" d=\"M54.2552,-307.774C68.7602,-310.411 87.1811,-313.76 103.916,-316.803\"/>\r\n",
        "<polygon fill=\"black\" stroke=\"black\" stroke-width=\"0.5\" points=\"103.603,-320.303 114.068,-318.649 104.855,-313.416 103.603,-320.303\"/>\r\n",
        "<text text-anchor=\"middle\" x=\"84\" y=\"-319\" font-family=\"Times New Roman,serif\" font-size=\"10.00\">patch</text>\r\n",
        "</g>\r\n",
        "<!-- obj_158019136 -->\r\n",
        "<g id=\"node3\" class=\"node\"><title>obj_158019136</title>\r\n",
        "<polygon fill=\"gray\" stroke=\"black\" points=\"123,-252 123,-288 177,-288 177,-252 123,-252\"/>\r\n",
        "<text text-anchor=\"middle\" x=\"150\" y=\"-266.3\" font-family=\"Times New Roman,serif\" font-size=\"14.00\">*</text>\r\n",
        "</g>\r\n",
        "<!-- obj_157810416&#45;&gt;obj_158019136 -->\r\n",
        "<g id=\"edge28\" class=\"edge\"><title>obj_157810416&#45;&gt;obj_158019136</title>\r\n",
        "<path fill=\"none\" stroke=\"black\" stroke-width=\"0.5\" stroke-dasharray=\"5,2\" d=\"M54.2552,-295.839C71.459,-291.148 94.1714,-284.953 113.046,-279.806\"/>\r\n",
        "<polygon fill=\"black\" stroke=\"black\" stroke-width=\"0.5\" points=\"114.069,-283.154 122.796,-277.147 112.227,-276.401 114.069,-283.154\"/>\r\n",
        "<text text-anchor=\"middle\" x=\"84\" y=\"-294\" font-family=\"Times New Roman,serif\" font-size=\"10.00\">axes</text>\r\n",
        "</g>\r\n",
        "<!-- obj_157836112 -->\r\n",
        "<g id=\"node4\" class=\"node\"><title>obj_157836112</title>\r\n",
        "<polygon fill=\"white\" stroke=\"black\" points=\"224.5,-252 224.5,-288 313.5,-288 313.5,-252 224.5,-252\"/>\r\n",
        "<text text-anchor=\"middle\" x=\"269\" y=\"-266.3\" font-family=\"Times New Roman,serif\" font-size=\"14.00\">AxesSubplot</text>\r\n",
        "</g>\r\n",
        "<!-- obj_158019136&#45;&gt;obj_157836112 -->\r\n",
        "<g id=\"edge27\" class=\"edge\"><title>obj_158019136:f0&#45;&gt;obj_157836112</title>\r\n",
        "<path fill=\"none\" stroke=\"black\" stroke-width=\"0.5\" d=\"M177.072,-270C188.132,-270 201.334,-270 214.203,-270\"/>\r\n",
        "<polygon fill=\"black\" stroke=\"black\" stroke-width=\"0.5\" points=\"214.406,-273.5 224.406,-270 214.406,-266.5 214.406,-273.5\"/>\r\n",
        "</g>\r\n",
        "<!-- obj_157836112&#45;&gt;obj_157836112 -->\r\n",
        "<g id=\"edge3\" class=\"edge\"><title>obj_157836112&#45;&gt;obj_157836112</title>\r\n",
        "<path fill=\"none\" stroke=\"black\" stroke-width=\"0.5\" d=\"M257.422,-288.153C255.641,-297.539 259.5,-306 269,-306 274.789,-306 278.484,-302.858 280.083,-298.28\"/>\r\n",
        "<polygon fill=\"black\" stroke=\"black\" stroke-width=\"0.5\" points=\"283.586,-298.312 280.578,-288.153 276.594,-297.97 283.586,-298.312\"/>\r\n",
        "<text text-anchor=\"middle\" x=\"269\" y=\"-309\" font-family=\"Times New Roman,serif\" font-size=\"10.00\">axes</text>\r\n",
        "</g>\r\n",
        "<!-- obj_157945968 -->\r\n",
        "<g id=\"node5\" class=\"node\"><title>obj_157945968</title>\r\n",
        "<polygon fill=\"white\" stroke=\"black\" points=\"374.5,-427 374.5,-463 445.5,-463 445.5,-427 374.5,-427\"/>\r\n",
        "<text text-anchor=\"middle\" x=\"410\" y=\"-441.3\" font-family=\"Times New Roman,serif\" font-size=\"14.00\">Rectangle</text>\r\n",
        "</g>\r\n",
        "<!-- obj_157836112&#45;&gt;obj_157945968 -->\r\n",
        "<g id=\"edge2\" class=\"edge\"><title>obj_157836112&#45;&gt;obj_157945968</title>\r\n",
        "<path fill=\"none\" stroke=\"black\" stroke-width=\"0.5\" d=\"M276.998,-288.148C286.814,-312.076 306.378,-354.683 332,-385 343.414,-398.506 358.316,-410.97 371.966,-420.998\"/>\r\n",
        "<polygon fill=\"black\" stroke=\"black\" stroke-width=\"0.5\" points=\"370.087,-423.957 380.261,-426.914 374.152,-418.258 370.087,-423.957\"/>\r\n",
        "<text text-anchor=\"middle\" x=\"344\" y=\"-410\" font-family=\"Times New Roman,serif\" font-size=\"10.00\">patch</text>\r\n",
        "</g>\r\n",
        "<!-- obj_157850040 -->\r\n",
        "<g id=\"node6\" class=\"node\"><title>obj_157850040</title>\r\n",
        "<polygon fill=\"gray\" stroke=\"black\" points=\"383,-372 383,-408 437,-408 437,-372 383,-372\"/>\r\n",
        "<text text-anchor=\"middle\" x=\"410\" y=\"-386.3\" font-family=\"Times New Roman,serif\" font-size=\"14.00\">*</text>\r\n",
        "</g>\r\n",
        "<!-- obj_157836112&#45;&gt;obj_157850040 -->\r\n",
        "<g id=\"edge6\" class=\"edge\"><title>obj_157836112&#45;&gt;obj_157850040</title>\r\n",
        "<path fill=\"none\" stroke=\"black\" stroke-width=\"0.5\" d=\"M279.373,-288.325C289.928,-307.411 308.69,-337.112 332,-356 344.06,-365.772 359.368,-373.288 373.153,-378.738\"/>\r\n",
        "<polygon fill=\"black\" stroke=\"black\" stroke-width=\"0.5\" points=\"372.26,-382.14 382.853,-382.344 374.699,-375.579 372.26,-382.14\"/>\r\n",
        "<text text-anchor=\"middle\" x=\"344\" y=\"-373\" font-family=\"Times New Roman,serif\" font-size=\"10.00\">lines</text>\r\n",
        "</g>\r\n",
        "<!-- obj_157838064 -->\r\n",
        "<g id=\"node8\" class=\"node\"><title>obj_157838064</title>\r\n",
        "<polygon fill=\"white\" stroke=\"black\" points=\"383,-224 383,-260 437,-260 437,-224 383,-224\"/>\r\n",
        "<text text-anchor=\"middle\" x=\"410\" y=\"-238.3\" font-family=\"Times New Roman,serif\" font-size=\"14.00\">XAxis</text>\r\n",
        "</g>\r\n",
        "<!-- obj_157836112&#45;&gt;obj_157838064 -->\r\n",
        "<g id=\"edge16\" class=\"edge\"><title>obj_157836112&#45;&gt;obj_157838064</title>\r\n",
        "<path fill=\"none\" stroke=\"black\" stroke-width=\"0.5\" d=\"M313.599,-261.217C332.723,-257.365 354.9,-252.898 373.056,-249.24\"/>\r\n",
        "<polygon fill=\"black\" stroke=\"black\" stroke-width=\"0.5\" points=\"373.844,-252.652 382.956,-247.246 372.462,-245.79 373.844,-252.652\"/>\r\n",
        "<text text-anchor=\"middle\" x=\"344\" y=\"-260\" font-family=\"Times New Roman,serif\" font-size=\"10.00\">xaxis</text>\r\n",
        "</g>\r\n",
        "<!-- obj_157858448 -->\r\n",
        "<g id=\"node16\" class=\"node\"><title>obj_157858448</title>\r\n",
        "<polygon fill=\"white\" stroke=\"black\" points=\"383,-65 383,-101 437,-101 437,-65 383,-65\"/>\r\n",
        "<text text-anchor=\"middle\" x=\"410\" y=\"-79.3\" font-family=\"Times New Roman,serif\" font-size=\"14.00\">YAxis</text>\r\n",
        "</g>\r\n",
        "<!-- obj_157836112&#45;&gt;obj_157858448 -->\r\n",
        "<g id=\"edge26\" class=\"edge\"><title>obj_157836112&#45;&gt;obj_157858448</title>\r\n",
        "<path fill=\"none\" stroke=\"black\" stroke-width=\"0.5\" d=\"M272.29,-251.749C277.295,-219.305 292.14,-151.316 332,-112 343.048,-101.103 358.585,-94.232 372.812,-89.9326\"/>\r\n",
        "<polygon fill=\"black\" stroke=\"black\" stroke-width=\"0.5\" points=\"374.106,-93.2091 382.857,-87.2357 372.291,-86.4485 374.106,-93.2091\"/>\r\n",
        "<text text-anchor=\"middle\" x=\"344\" y=\"-115\" font-family=\"Times New Roman,serif\" font-size=\"10.00\">yaxis</text>\r\n",
        "</g>\r\n",
        "<!-- obj_158006288 -->\r\n",
        "<g id=\"node7\" class=\"node\"><title>obj_158006288</title>\r\n",
        "<polygon fill=\"white\" stroke=\"black\" points=\"526.5,-342 526.5,-378 583.5,-378 583.5,-342 526.5,-342\"/>\r\n",
        "<text text-anchor=\"middle\" x=\"555\" y=\"-356.3\" font-family=\"Times New Roman,serif\" font-size=\"14.00\">Line2D</text>\r\n",
        "</g>\r\n",
        "<!-- obj_157850040&#45;&gt;obj_158006288 -->\r\n",
        "<g id=\"edge5\" class=\"edge\"><title>obj_157850040:f0&#45;&gt;obj_158006288</title>\r\n",
        "<path fill=\"none\" stroke=\"black\" stroke-width=\"0.5\" d=\"M437.085,-384.357C459.426,-379.703 491.373,-373.047 516.228,-367.869\"/>\r\n",
        "<polygon fill=\"black\" stroke=\"black\" stroke-width=\"0.5\" points=\"516.978,-371.288 526.054,-365.822 515.55,-364.435 516.978,-371.288\"/>\r\n",
        "</g>\r\n",
        "<!-- obj_158006288&#45;&gt;obj_157836112 -->\r\n",
        "<g id=\"edge4\" class=\"edge\"><title>obj_158006288&#45;&gt;obj_157836112</title>\r\n",
        "<path fill=\"none\" stroke=\"black\" stroke-width=\"0.5\" d=\"M526.403,-356.945C483.464,-351.502 398.668,-337.971 332,-310 321.795,-305.719 311.418,-299.772 302.145,-293.771\"/>\r\n",
        "<polygon fill=\"black\" stroke=\"black\" stroke-width=\"0.5\" points=\"303.889,-290.725 293.636,-288.053 299.985,-296.536 303.889,-290.725\"/>\r\n",
        "<text text-anchor=\"middle\" x=\"410\" y=\"-346\" font-family=\"Times New Roman,serif\" font-size=\"10.00\">axes</text>\r\n",
        "</g>\r\n",
        "<!-- obj_157838064&#45;&gt;obj_157836112 -->\r\n",
        "<g id=\"edge7\" class=\"edge\"><title>obj_157838064&#45;&gt;obj_157836112</title>\r\n",
        "<path fill=\"none\" stroke=\"black\" stroke-width=\"0.5\" d=\"M382.978,-236.386C367.887,-234.098 348.637,-232.848 332,-237 323.146,-239.209 314.171,-242.947 305.901,-247.131\"/>\r\n",
        "<polygon fill=\"black\" stroke=\"black\" stroke-width=\"0.5\" points=\"304.045,-244.155 296.909,-251.986 307.371,-250.315 304.045,-244.155\"/>\r\n",
        "<text text-anchor=\"middle\" x=\"344\" y=\"-240\" font-family=\"Times New Roman,serif\" font-size=\"10.00\">axes</text>\r\n",
        "</g>\r\n",
        "<!-- obj_154724672 -->\r\n",
        "<g id=\"node9\" class=\"node\"><title>obj_154724672</title>\r\n",
        "<polygon fill=\"gray\" stroke=\"black\" points=\"528,-166 528,-212 582,-212 582,-166 528,-166\"/>\r\n",
        "<text text-anchor=\"middle\" x=\"555\" y=\"-196.8\" font-family=\"Times New Roman,serif\" font-size=\"14.00\">*</text>\r\n",
        "<polyline fill=\"none\" stroke=\"black\" points=\"528,-189 582,-189 \"/>\r\n",
        "<text text-anchor=\"middle\" x=\"555\" y=\"-173.8\" font-family=\"Times New Roman,serif\" font-size=\"14.00\">*</text>\r\n",
        "</g>\r\n",
        "<!-- obj_157838064&#45;&gt;obj_154724672 -->\r\n",
        "<g id=\"edge14\" class=\"edge\"><title>obj_157838064&#45;&gt;obj_154724672</title>\r\n",
        "<path fill=\"none\" stroke=\"black\" stroke-width=\"0.5\" d=\"M437.228,-232.279C460.007,-223.837 493.198,-211.535 518.377,-202.203\"/>\r\n",
        "<polygon fill=\"black\" stroke=\"black\" stroke-width=\"0.5\" points=\"519.778,-205.417 527.938,-198.659 517.345,-198.853 519.778,-205.417\"/>\r\n",
        "<text text-anchor=\"middle\" x=\"486\" y=\"-225\" font-family=\"Times New Roman,serif\" font-size=\"10.00\">majorTicks</text>\r\n",
        "</g>\r\n",
        "<!-- obj_157838128 -->\r\n",
        "<g id=\"node15\" class=\"node\"><title>obj_157838128</title>\r\n",
        "<polygon fill=\"white\" stroke=\"black\" points=\"528,-231 528,-267 582,-267 582,-231 528,-231\"/>\r\n",
        "<text text-anchor=\"middle\" x=\"555\" y=\"-245.3\" font-family=\"Times New Roman,serif\" font-size=\"14.00\">Text</text>\r\n",
        "</g>\r\n",
        "<!-- obj_157838064&#45;&gt;obj_157838128 -->\r\n",
        "<g id=\"edge15\" class=\"edge\"><title>obj_157838064&#45;&gt;obj_157838128</title>\r\n",
        "<path fill=\"none\" stroke=\"black\" stroke-width=\"0.5\" d=\"M437.228,-243.284C459.805,-244.389 492.612,-245.995 517.707,-247.223\"/>\r\n",
        "<polygon fill=\"black\" stroke=\"black\" stroke-width=\"0.5\" points=\"517.779,-250.731 527.938,-247.724 518.121,-243.739 517.779,-250.731\"/>\r\n",
        "<text text-anchor=\"middle\" x=\"486\" y=\"-250\" font-family=\"Times New Roman,serif\" font-size=\"10.00\">label</text>\r\n",
        "</g>\r\n",
        "<!-- obj_157874960 -->\r\n",
        "<g id=\"node10\" class=\"node\"><title>obj_157874960</title>\r\n",
        "<polygon fill=\"white\" stroke=\"black\" points=\"622,-257 622,-293 676,-293 676,-257 622,-257\"/>\r\n",
        "<text text-anchor=\"middle\" x=\"649\" y=\"-271.3\" font-family=\"Times New Roman,serif\" font-size=\"14.00\">XTick</text>\r\n",
        "</g>\r\n",
        "<!-- obj_154724672&#45;&gt;obj_157874960 -->\r\n",
        "<g id=\"edge12\" class=\"edge\"><title>obj_154724672:f0&#45;&gt;obj_157874960</title>\r\n",
        "<path fill=\"none\" stroke=\"black\" stroke-width=\"0.5\" d=\"M583,-201C608.653,-201 626.562,-226.414 636.994,-247.455\"/>\r\n",
        "<polygon fill=\"black\" stroke=\"black\" stroke-width=\"0.5\" points=\"633.895,-249.093 641.261,-256.708 640.251,-246.161 633.895,-249.093\"/>\r\n",
        "</g>\r\n",
        "<!-- obj_157858288 -->\r\n",
        "<g id=\"node14\" class=\"node\"><title>obj_157858288</title>\r\n",
        "<polygon fill=\"white\" stroke=\"black\" points=\"622,-159 622,-195 676,-195 676,-159 622,-159\"/>\r\n",
        "<text text-anchor=\"middle\" x=\"649\" y=\"-173.3\" font-family=\"Times New Roman,serif\" font-size=\"14.00\">XTick</text>\r\n",
        "</g>\r\n",
        "<!-- obj_154724672&#45;&gt;obj_157858288 -->\r\n",
        "<g id=\"edge13\" class=\"edge\"><title>obj_154724672:f1&#45;&gt;obj_157858288</title>\r\n",
        "<path fill=\"none\" stroke=\"black\" stroke-width=\"0.5\" d=\"M583,-177C592.265,-177 602.273,-177 611.594,-177\"/>\r\n",
        "<polygon fill=\"black\" stroke=\"black\" stroke-width=\"0.5\" points=\"611.75,-180.5 621.75,-177 611.75,-173.5 611.75,-180.5\"/>\r\n",
        "</g>\r\n",
        "<!-- obj_157874960&#45;&gt;obj_157836112 -->\r\n",
        "<g id=\"edge8\" class=\"edge\"><title>obj_157874960&#45;&gt;obj_157836112</title>\r\n",
        "<path fill=\"none\" stroke=\"black\" stroke-width=\"0.5\" d=\"M621.845,-275.501C610.251,-275.699 596.446,-275.903 584,-276 492.585,-276.714 386.222,-273.919 323.704,-271.905\"/>\r\n",
        "<polygon fill=\"black\" stroke=\"black\" stroke-width=\"0.5\" points=\"323.79,-268.406 313.681,-271.577 323.561,-275.402 323.79,-268.406\"/>\r\n",
        "<text text-anchor=\"middle\" x=\"486\" y=\"-279\" font-family=\"Times New Roman,serif\" font-size=\"10.00\">axes</text>\r\n",
        "</g>\r\n",
        "<!-- obj_157873744 -->\r\n",
        "<g id=\"node11\" class=\"node\"><title>obj_157873744</title>\r\n",
        "<polygon fill=\"white\" stroke=\"black\" points=\"748,-312 748,-348 802,-348 802,-312 748,-312\"/>\r\n",
        "<text text-anchor=\"middle\" x=\"775\" y=\"-326.3\" font-family=\"Times New Roman,serif\" font-size=\"14.00\">Text</text>\r\n",
        "</g>\r\n",
        "<!-- obj_157874960&#45;&gt;obj_157873744 -->\r\n",
        "<g id=\"edge9\" class=\"edge\"><title>obj_157874960&#45;&gt;obj_157873744</title>\r\n",
        "<path fill=\"none\" stroke=\"black\" stroke-width=\"0.5\" d=\"M676.297,-286.664C694.381,-294.685 718.613,-305.433 738.419,-314.218\"/>\r\n",
        "<polygon fill=\"black\" stroke=\"black\" stroke-width=\"0.5\" points=\"737.18,-317.498 747.741,-318.353 740.019,-311.099 737.18,-317.498\"/>\r\n",
        "<text text-anchor=\"middle\" x=\"711\" y=\"-313\" font-family=\"Times New Roman,serif\" font-size=\"10.00\">label</text>\r\n",
        "</g>\r\n",
        "<!-- obj_157874928 -->\r\n",
        "<g id=\"node12\" class=\"node\"><title>obj_157874928</title>\r\n",
        "<polygon fill=\"white\" stroke=\"black\" points=\"746.5,-257 746.5,-293 803.5,-293 803.5,-257 746.5,-257\"/>\r\n",
        "<text text-anchor=\"middle\" x=\"775\" y=\"-271.3\" font-family=\"Times New Roman,serif\" font-size=\"14.00\">Line2D</text>\r\n",
        "</g>\r\n",
        "<!-- obj_157874960&#45;&gt;obj_157874928 -->\r\n",
        "<g id=\"edge10\" class=\"edge\"><title>obj_157874960&#45;&gt;obj_157874928</title>\r\n",
        "<path fill=\"none\" stroke=\"black\" stroke-width=\"0.5\" d=\"M676.297,-275C693.773,-275 716.99,-275 736.406,-275\"/>\r\n",
        "<polygon fill=\"black\" stroke=\"black\" stroke-width=\"0.5\" points=\"736.452,-278.5 746.452,-275 736.451,-271.5 736.452,-278.5\"/>\r\n",
        "<text text-anchor=\"middle\" x=\"711\" y=\"-278\" font-family=\"Times New Roman,serif\" font-size=\"10.00\">tick1line</text>\r\n",
        "</g>\r\n",
        "<!-- obj_157875536 -->\r\n",
        "<g id=\"node13\" class=\"node\"><title>obj_157875536</title>\r\n",
        "<polygon fill=\"white\" stroke=\"black\" points=\"746.5,-202 746.5,-238 803.5,-238 803.5,-202 746.5,-202\"/>\r\n",
        "<text text-anchor=\"middle\" x=\"775\" y=\"-216.3\" font-family=\"Times New Roman,serif\" font-size=\"14.00\">Line2D</text>\r\n",
        "</g>\r\n",
        "<!-- obj_157874960&#45;&gt;obj_157875536 -->\r\n",
        "<g id=\"edge11\" class=\"edge\"><title>obj_157874960&#45;&gt;obj_157875536</title>\r\n",
        "<path fill=\"none\" stroke=\"black\" stroke-width=\"0.5\" d=\"M676.297,-263.336C694.015,-255.477 717.633,-245.002 737.209,-236.318\"/>\r\n",
        "<polygon fill=\"black\" stroke=\"black\" stroke-width=\"0.5\" points=\"738.729,-239.473 746.452,-232.219 735.891,-233.074 738.729,-239.473\"/>\r\n",
        "<text text-anchor=\"middle\" x=\"711\" y=\"-258\" font-family=\"Times New Roman,serif\" font-size=\"10.00\">tick2line</text>\r\n",
        "</g>\r\n",
        "<!-- obj_157858448&#45;&gt;obj_157836112 -->\r\n",
        "<g id=\"edge17\" class=\"edge\"><title>obj_157858448&#45;&gt;obj_157836112</title>\r\n",
        "<path fill=\"none\" stroke=\"black\" stroke-width=\"0.5\" d=\"M382.731,-73.3846C366.625,-69.2736 346.405,-67.5144 332,-78 280.047,-115.818 270.715,-198.033 269.598,-241.593\"/>\r\n",
        "<polygon fill=\"black\" stroke=\"black\" stroke-width=\"0.5\" points=\"266.096,-241.741 269.471,-251.784 273.096,-241.829 266.096,-241.741\"/>\r\n",
        "<text text-anchor=\"middle\" x=\"344\" y=\"-81\" font-family=\"Times New Roman,serif\" font-size=\"10.00\">axes</text>\r\n",
        "</g>\r\n",
        "<!-- obj_157848280 -->\r\n",
        "<g id=\"node17\" class=\"node\"><title>obj_157848280</title>\r\n",
        "<polygon fill=\"gray\" stroke=\"black\" points=\"528,-7 528,-53 582,-53 582,-7 528,-7\"/>\r\n",
        "<text text-anchor=\"middle\" x=\"555\" y=\"-37.8\" font-family=\"Times New Roman,serif\" font-size=\"14.00\">*</text>\r\n",
        "<polyline fill=\"none\" stroke=\"black\" points=\"528,-30 582,-30 \"/>\r\n",
        "<text text-anchor=\"middle\" x=\"555\" y=\"-14.8\" font-family=\"Times New Roman,serif\" font-size=\"14.00\">*</text>\r\n",
        "</g>\r\n",
        "<!-- obj_157858448&#45;&gt;obj_157848280 -->\r\n",
        "<g id=\"edge24\" class=\"edge\"><title>obj_157858448&#45;&gt;obj_157848280</title>\r\n",
        "<path fill=\"none\" stroke=\"black\" stroke-width=\"0.5\" d=\"M437.228,-73.279C460.007,-64.8367 493.198,-52.5349 518.377,-43.2028\"/>\r\n",
        "<polygon fill=\"black\" stroke=\"black\" stroke-width=\"0.5\" points=\"519.778,-46.4166 527.938,-39.6594 517.345,-39.8529 519.778,-46.4166\"/>\r\n",
        "<text text-anchor=\"middle\" x=\"486\" y=\"-66\" font-family=\"Times New Roman,serif\" font-size=\"10.00\">majorTicks</text>\r\n",
        "</g>\r\n",
        "<!-- obj_157858576 -->\r\n",
        "<g id=\"node23\" class=\"node\"><title>obj_157858576</title>\r\n",
        "<polygon fill=\"white\" stroke=\"black\" points=\"528,-72 528,-108 582,-108 582,-72 528,-72\"/>\r\n",
        "<text text-anchor=\"middle\" x=\"555\" y=\"-86.3\" font-family=\"Times New Roman,serif\" font-size=\"14.00\">Text</text>\r\n",
        "</g>\r\n",
        "<!-- obj_157858448&#45;&gt;obj_157858576 -->\r\n",
        "<g id=\"edge25\" class=\"edge\"><title>obj_157858448&#45;&gt;obj_157858576</title>\r\n",
        "<path fill=\"none\" stroke=\"black\" stroke-width=\"0.5\" d=\"M437.228,-84.2839C459.805,-85.3891 492.612,-86.995 517.707,-88.2234\"/>\r\n",
        "<polygon fill=\"black\" stroke=\"black\" stroke-width=\"0.5\" points=\"517.779,-91.731 527.938,-88.7242 518.121,-84.7394 517.779,-91.731\"/>\r\n",
        "<text text-anchor=\"middle\" x=\"486\" y=\"-91\" font-family=\"Times New Roman,serif\" font-size=\"10.00\">label</text>\r\n",
        "</g>\r\n",
        "<!-- obj_157838896 -->\r\n",
        "<g id=\"node18\" class=\"node\"><title>obj_157838896</title>\r\n",
        "<polygon fill=\"white\" stroke=\"black\" points=\"622,-71 622,-107 676,-107 676,-71 622,-71\"/>\r\n",
        "<text text-anchor=\"middle\" x=\"649\" y=\"-85.3\" font-family=\"Times New Roman,serif\" font-size=\"14.00\">YTick</text>\r\n",
        "</g>\r\n",
        "<!-- obj_157848280&#45;&gt;obj_157838896 -->\r\n",
        "<g id=\"edge22\" class=\"edge\"><title>obj_157848280:f0&#45;&gt;obj_157838896</title>\r\n",
        "<path fill=\"none\" stroke=\"black\" stroke-width=\"0.5\" d=\"M583,-42C599.907,-42 615.397,-52.5706 627.011,-63.6857\"/>\r\n",
        "<polygon fill=\"black\" stroke=\"black\" stroke-width=\"0.5\" points=\"624.588,-66.2151 634.06,-70.963 629.616,-61.3449 624.588,-66.2151\"/>\r\n",
        "</g>\r\n",
        "<!-- obj_157839152 -->\r\n",
        "<g id=\"node22\" class=\"node\"><title>obj_157839152</title>\r\n",
        "<polygon fill=\"white\" stroke=\"black\" points=\"622,-0 622,-36 676,-36 676,-0 622,-0\"/>\r\n",
        "<text text-anchor=\"middle\" x=\"649\" y=\"-14.3\" font-family=\"Times New Roman,serif\" font-size=\"14.00\">YTick</text>\r\n",
        "</g>\r\n",
        "<!-- obj_157848280&#45;&gt;obj_157839152 -->\r\n",
        "<g id=\"edge23\" class=\"edge\"><title>obj_157848280:f1&#45;&gt;obj_157839152</title>\r\n",
        "<path fill=\"none\" stroke=\"black\" stroke-width=\"0.5\" d=\"M583,-18C592.265,-18 602.273,-18 611.594,-18\"/>\r\n",
        "<polygon fill=\"black\" stroke=\"black\" stroke-width=\"0.5\" points=\"611.75,-21.5001 621.75,-18 611.75,-14.5001 611.75,-21.5001\"/>\r\n",
        "</g>\r\n",
        "<!-- obj_157838896&#45;&gt;obj_157836112 -->\r\n",
        "<g id=\"edge18\" class=\"edge\"><title>obj_157838896&#45;&gt;obj_157836112</title>\r\n",
        "<path fill=\"none\" stroke=\"black\" stroke-width=\"0.5\" d=\"M621.745,-100.547C550.947,-131.718 359.567,-216.228 332,-231 323.265,-235.681 314.103,-241.125 305.583,-246.436\"/>\r\n",
        "<polygon fill=\"black\" stroke=\"black\" stroke-width=\"0.5\" points=\"303.557,-243.576 296.982,-251.883 307.303,-249.489 303.557,-243.576\"/>\r\n",
        "<text text-anchor=\"middle\" x=\"486\" y=\"-174\" font-family=\"Times New Roman,serif\" font-size=\"10.00\">axes</text>\r\n",
        "</g>\r\n",
        "<!-- obj_157859600 -->\r\n",
        "<g id=\"node19\" class=\"node\"><title>obj_157859600</title>\r\n",
        "<polygon fill=\"white\" stroke=\"black\" points=\"748,-126 748,-162 802,-162 802,-126 748,-126\"/>\r\n",
        "<text text-anchor=\"middle\" x=\"775\" y=\"-140.3\" font-family=\"Times New Roman,serif\" font-size=\"14.00\">Text</text>\r\n",
        "</g>\r\n",
        "<!-- obj_157838896&#45;&gt;obj_157859600 -->\r\n",
        "<g id=\"edge19\" class=\"edge\"><title>obj_157838896&#45;&gt;obj_157859600</title>\r\n",
        "<path fill=\"none\" stroke=\"black\" stroke-width=\"0.5\" d=\"M676.297,-100.664C694.381,-108.685 718.613,-119.433 738.419,-128.218\"/>\r\n",
        "<polygon fill=\"black\" stroke=\"black\" stroke-width=\"0.5\" points=\"737.18,-131.498 747.741,-132.353 740.019,-125.099 737.18,-131.498\"/>\r\n",
        "<text text-anchor=\"middle\" x=\"711\" y=\"-127\" font-family=\"Times New Roman,serif\" font-size=\"10.00\">label</text>\r\n",
        "</g>\r\n",
        "<!-- obj_157859088 -->\r\n",
        "<g id=\"node20\" class=\"node\"><title>obj_157859088</title>\r\n",
        "<polygon fill=\"white\" stroke=\"black\" points=\"746.5,-71 746.5,-107 803.5,-107 803.5,-71 746.5,-71\"/>\r\n",
        "<text text-anchor=\"middle\" x=\"775\" y=\"-85.3\" font-family=\"Times New Roman,serif\" font-size=\"14.00\">Line2D</text>\r\n",
        "</g>\r\n",
        "<!-- obj_157838896&#45;&gt;obj_157859088 -->\r\n",
        "<g id=\"edge20\" class=\"edge\"><title>obj_157838896&#45;&gt;obj_157859088</title>\r\n",
        "<path fill=\"none\" stroke=\"black\" stroke-width=\"0.5\" d=\"M676.297,-89C693.773,-89 716.99,-89 736.406,-89\"/>\r\n",
        "<polygon fill=\"black\" stroke=\"black\" stroke-width=\"0.5\" points=\"736.452,-92.5001 746.452,-89 736.451,-85.5001 736.452,-92.5001\"/>\r\n",
        "<text text-anchor=\"middle\" x=\"711\" y=\"-92\" font-family=\"Times New Roman,serif\" font-size=\"10.00\">tick1line</text>\r\n",
        "</g>\r\n",
        "<!-- obj_157856048 -->\r\n",
        "<g id=\"node21\" class=\"node\"><title>obj_157856048</title>\r\n",
        "<polygon fill=\"white\" stroke=\"black\" points=\"746.5,-16 746.5,-52 803.5,-52 803.5,-16 746.5,-16\"/>\r\n",
        "<text text-anchor=\"middle\" x=\"775\" y=\"-30.3\" font-family=\"Times New Roman,serif\" font-size=\"14.00\">Line2D</text>\r\n",
        "</g>\r\n",
        "<!-- obj_157838896&#45;&gt;obj_157856048 -->\r\n",
        "<g id=\"edge21\" class=\"edge\"><title>obj_157838896&#45;&gt;obj_157856048</title>\r\n",
        "<path fill=\"none\" stroke=\"black\" stroke-width=\"0.5\" d=\"M676.297,-77.3359C694.015,-69.4774 717.633,-59.0016 737.209,-50.3184\"/>\r\n",
        "<polygon fill=\"black\" stroke=\"black\" stroke-width=\"0.5\" points=\"738.729,-53.4731 746.452,-46.2191 735.891,-47.0743 738.729,-53.4731\"/>\r\n",
        "<text text-anchor=\"middle\" x=\"711\" y=\"-72\" font-family=\"Times New Roman,serif\" font-size=\"10.00\">tick2line</text>\r\n",
        "</g>\r\n",
        "</g>\r\n",
        "</svg>\r\n"
       ]
      },
      {
       "metadata": {},
       "output_type": "display_data",
       "png": "[encoded data removed]",
       "text": [
        "<matplotlib.figure.Figure at 0x967fef0>"
       ]
      }
     ],
     "prompt_number": 6
    },
    {
     "cell_type": "code",
     "collapsed": false,
     "input": [],
     "language": "python",
     "metadata": {},
     "outputs": []
    }
   ],
   "metadata": {}
  }
 ]
}