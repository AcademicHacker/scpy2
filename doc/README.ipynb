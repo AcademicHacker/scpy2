{
 "metadata": {
  "name": "",
  "signature": "sha256:4b84e4e2a9e959dbcea45e9ef89fee612223cd2edc0166710b9ee9bfe25fb950"
 },
 "nbformat": 3,
 "nbformat_minor": 0,
 "worksheets": [
  {
   "cells": [
    {
     "cell_type": "heading",
     "level": 1,
     "metadata": {},
     "source": [
      "Scpy2 - Python\u79d1\u5b66\u8ba1\u7b97\u7b2c\u4e8c\u7248\u5b9e\u4f8b\u4ee3\u7801\u96c6"
     ]
    },
    {
     "cell_type": "markdown",
     "metadata": {},
     "source": [
      "`scpy2`\u4e3aPython\u79d1\u5b66\u8ba1\u7b97\u7b2c\u4e8c\u7248\u7684\u5b9e\u4f8b\u4ee3\u7801\u96c6\uff0c\u5176\u4e2d\u7684\u5305\u542b\u8bb8\u591a\u6f14\u793a\u4ee3\u7801\u4ee5\u53ca\u4e00\u4e9b\u5b9e\u7528\u7684\u6a21\u5757\u3002"
     ]
    },
    {
     "cell_type": "heading",
     "level": 2,
     "metadata": {},
     "source": [
      "Scipy"
     ]
    },
    {
     "cell_type": "heading",
     "level": 3,
     "metadata": {},
     "source": [
      "\u89e3\u534e\u5bb9\u9053"
     ]
    },
    {
     "cell_type": "markdown",
     "metadata": {},
     "source": [
      "\u6f14\u793a\u5982\u4f55\u4f7f\u7528`scipy.sparse.csgraph`\u89e3\u534e\u5bb9\u9053\u8c1c\u9898\u30024\u79cd\u65b9\u5757\u5206\u522b\u4f7f\u7528ABCD\u56db\u4e2a\u7b26\u53f7\u8868\u793a\uff0c\u7a7a\u683c\u8868\u793a\u65e0\u65b9\u5757\uff0c\u4f8b\u5982\u6807\u51c6\u5f00\u5c40\u4e3a\uff1a\n",
      "\n",
      "    BAAB\n",
      "    BAAB\n",
      "    BCCB\n",
      "    BDDB\n",
      "    D  D\n",
      "    \n",
      "\u4f7f\u7528\u5b57\u7b26\u4e32`BAABBAABBCCBBDDBD  D`\u8868\u793a\u3002\n",
      "\n",
      "\u8fd9\u79cd\u5e03\u5c40\u4e00\u5171\u67091\u4e2aA\u30014\u4e2aB\u30011\u4e2aC\u548c4\u4e2aD\u65b9\u5757\uff0c\u9996\u5148\u8fd0\u884c\u5982\u4e0b\u7a0b\u5e8f\u4ea7\u751f\u8fd9\u4e9b\u65b9\u5757\u7684\u6240\u6709\u5e03\u5c40\uff1a"
     ]
    },
    {
     "cell_type": "code",
     "collapsed": false,
     "input": [
      "!python -m scpy2.scipy.hrd ABBBBCDDDD"
     ],
     "language": "python",
     "metadata": {},
     "outputs": []
    },
    {
     "cell_type": "markdown",
     "metadata": {},
     "source": [
      "\u7136\u540e\u8fd0\u884c\u5982\u4e0b\u547d\u4ee4\u5bf9\u6a2a\u5200\u7acb\u9a6c\u5e03\u5c40`BAABBAABBCCBBDDBD D`\u6c42\u89e3\uff0c\u8be5\u7a0b\u5e8f\u4f7f\u7528matplotlib\u5236\u4f5c\u754c\u9762\u3002\u6309\u7bad\u5934\u6f14\u793a\u89e3\u9898\u6b65\u9aa4\uff0c\u6309\u7a7a\u683c\u952e\u64ad\u653e/\u6682\u505c\u3002\n",
      "\n",
      "![\u534e\u5bb9\u9053\u6c42\u89e3\u5668\u7684\u754c\u9762](/files/images/hrd.png \"\")"
     ]
    },
    {
     "cell_type": "code",
     "collapsed": false,
     "input": [
      "!python -m scpy2.scipy.hrd_solver \"BAABBAABBCCBBDDBD  D\""
     ],
     "language": "python",
     "metadata": {},
     "outputs": []
    },
    {
     "cell_type": "heading",
     "level": 2,
     "metadata": {},
     "source": [
      "Cython"
     ]
    },
    {
     "cell_type": "heading",
     "level": 3,
     "metadata": {},
     "source": [
      "\u591a\u5173\u952e\u5b57\u641c\u7d22"
     ]
    },
    {
     "cell_type": "markdown",
     "metadata": {},
     "source": [
      "`scpy2.cython.multisearch.MultiSearch`\u6f14\u793a\u5982\u4f55\u5bf9C\u8bed\u8a00\u7684\u5e93\u8fdb\u884c\u5305\u88c5\u3002\u8fd9\u91cc\u4f7f\u7528\u7684\u5e93\u4e3a[multifast](http://sourceforge.net/projects/multifast/)\u3002\u5b83\u80fd\u5bf9\u6587\u672c\u4f7f\u7528\u591a\u4e2a\u5173\u952e\u8bcd\u8fdb\u884c\u641c\u7d22\u3002"
     ]
    },
    {
     "cell_type": "code",
     "collapsed": false,
     "input": [
      "from scpy2.cython import MultiSearch\n",
      "\n",
      "ms = MultiSearch([\"abc\", \"xyz\"])\n",
      "print ms.isin(\"123abcdef\")\n",
      "print ms.isin(\"123uvwxyz\")\n",
      "print ms.isin(\"123456789\")\n",
      "\n",
      "for pos, pattern in ms.iter_search(\"123abcdefxyz123\"):\n",
      "    print pos, pattern"
     ],
     "language": "python",
     "metadata": {},
     "outputs": [
      {
       "output_type": "stream",
       "stream": "stdout",
       "text": [
        "True\n",
        "True\n",
        "False\n",
        "3 abc\n",
        "9 xyz\n"
       ]
      }
     ],
     "prompt_number": 1
    }
   ],
   "metadata": {}
  }
 ]
}